{
 "cells": [
  {
   "cell_type": "code",
   "execution_count": null,
   "id": "495da3b4-08fa-4f0a-b56d-b514e9ef2b45",
   "metadata": {},
   "outputs": [],
   "source": [
    "import pandas as pd\n",
    "import numpy as np\n",
    "import seaborn as sns\n",
    "import matplotlib.pyplot as plt\n",
    "from sklearn.model_selection import train_test_split\n",
    "from sklearn.metrics import accuracy_score\n",
    "from sklearn.metrics import classification_report\n",
    "import re\n",
    "import string\n",
    "import requests"
   ]
  },
  {
   "cell_type": "code",
   "execution_count": null,
   "id": "2e6bcc35-651e-47f8-b2f3-7536c58bbd8b",
   "metadata": {},
   "outputs": [],
   "source": [
    "## Download the csv files from a Google Drive\n",
    "\n",
    "# File ID from Google Drive shareable link\n",
    "fake_id = \"1sGqcMtY9W67vBMj1lnMQXOAfkyIN8k_a\"\n",
    "true_id = \"1ggpakEFE6J2UIUjaD0Kfu9eAeUmAlLYu\"\n",
    "\n",
    "fake_csv_download_url = f\"https://drive.google.com/uc?id={fake_id}&export=download\"\n",
    "true_csv_download_url = f\"https://drive.google.com/uc?id={true_id}&export=download\"\n",
    "\n",
    "def download_dataset(url, filename):\n",
    "    response = requests.get(url)\n",
    "    if response.status_code == 200:\n",
    "        with open(filename, \"wb\") as file:\n",
    "            file.write(response.content)\n",
    "        print(\"File downloaded successfully!\")\n",
    "    else:\n",
    "        print(\"Failed to download the file.\")\n",
    "download_dataset(fake_csv_download_url, \"Fake.csv\")\n",
    "download_dataset(true_csv_download_url, \"True.csv\")"
   ]
  },
  {
   "cell_type": "code",
   "execution_count": null,
   "id": "c5fa2e38-4b7d-4c2a-afee-58cd2bd207bf",
   "metadata": {},
   "outputs": [],
   "source": [
    "# Load the datasets into pandas dataframes\n",
    "data_fake = pd.read_csv('Fake.csv')\n",
    "data_true = pd.read_csv('True.csv')"
   ]
  },
  {
   "cell_type": "code",
   "execution_count": null,
   "id": "b2ea3d12-d2df-49f2-a935-7bea8a8be1f6",
   "metadata": {},
   "outputs": [],
   "source": [
    "data_fake.head()"
   ]
  },
  {
   "cell_type": "code",
   "execution_count": null,
   "id": "3da4d35e-8868-4544-b41d-489a6449c76b",
   "metadata": {},
   "outputs": [],
   "source": [
    "data_true.tail()"
   ]
  },
  {
   "cell_type": "code",
   "execution_count": null,
   "id": "0678642e-638b-411a-b526-1c965091f8c6",
   "metadata": {},
   "outputs": [],
   "source": [
    "data_fake.shape, data_true.shape"
   ]
  },
  {
   "cell_type": "code",
   "execution_count": null,
   "id": "fe904551-ca17-44fe-8ed2-57e81b37e7eb",
   "metadata": {},
   "outputs": [],
   "source": [
    "data_fake['class'] = 0\n",
    "data_true['class'] = 1"
   ]
  },
  {
   "cell_type": "code",
   "execution_count": null,
   "id": "58766fbe-56b7-4fb9-baad-cdc65f5af47c",
   "metadata": {},
   "outputs": [],
   "source": [
    "data_fake.shape, data_true.shape"
   ]
  },
  {
   "cell_type": "code",
   "execution_count": null,
   "id": "2bab4859-1d7c-429a-8710-af53ceb57bb9",
   "metadata": {},
   "outputs": [],
   "source": []
  },
  {
   "cell_type": "code",
   "execution_count": null,
   "id": "383a59d6-7f0f-47a7-8086-0f7477a2eabb",
   "metadata": {},
   "outputs": [],
   "source": [
    "# Delete the last 10 rows in both the fake and true datasets for testing purposes\n",
    "data_fake_manual_testing = data_fake.tail(10)\n",
    "for i in range(23480, 23470, -1):\n",
    "    data_fake.drop([i], axis = 0, inplace = True)\n",
    "\n",
    "\n",
    "data_true_manual_testing = data_true.tail(10)\n",
    "for i in range(21416, 21406, -1):\n",
    "    data_true.drop([i], axis = 0, inplace = True)"
   ]
  },
  {
   "cell_type": "code",
   "execution_count": null,
   "id": "e1f50320-da13-4b7d-939d-f1c6175bde86",
   "metadata": {},
   "outputs": [],
   "source": [
    "data_fake.shape, data_true.shape"
   ]
  },
  {
   "cell_type": "code",
   "execution_count": null,
   "id": "3508e07d-5098-4101-bd2f-2dde73222edf",
   "metadata": {},
   "outputs": [],
   "source": [
    "# Add a new feature to both dataframes that represents whether the article is true or fake\n",
    "data_fake_manual_testing['class']= 0\n",
    "data_true_manual_testing['class']= 1"
   ]
  },
  {
   "cell_type": "code",
   "execution_count": null,
   "id": "63f08128-4bd7-40bf-b683-850b206a7289",
   "metadata": {},
   "outputs": [],
   "source": [
    "data_fake_manual_testing.head(10)"
   ]
  },
  {
   "cell_type": "code",
   "execution_count": null,
   "id": "ee01ac64-c5e6-4872-a7f7-ff74cc4519a8",
   "metadata": {},
   "outputs": [],
   "source": [
    "data_true_manual_testing.head(10)"
   ]
  },
  {
   "cell_type": "code",
   "execution_count": null,
   "id": "f82993a5-b5e8-42d7-bcb5-737923366f28",
   "metadata": {},
   "outputs": [],
   "source": [
    "# Merge the rows of both the fake and true dataframe into one single dataframe\n",
    "data_merge = pd.concat([data_fake, data_true], axis = 0)\n",
    "data_merge.head(20)"
   ]
  },
  {
   "cell_type": "code",
   "execution_count": null,
   "id": "330fd0ca-bd80-41d1-8fcd-0bcedfbb71ba",
   "metadata": {},
   "outputs": [],
   "source": [
    "data_merge.columns"
   ]
  },
  {
   "cell_type": "code",
   "execution_count": null,
   "id": "7cc7b1ef-6871-452f-8e92-a9379d50bf1c",
   "metadata": {},
   "outputs": [],
   "source": [
    "data = data_merge.drop(['title', 'subject', 'date'], axis = 1)\n",
    "data"
   ]
  },
  {
   "cell_type": "code",
   "execution_count": null,
   "id": "e326638f-b313-473f-8e0b-8ef75fd315b6",
   "metadata": {},
   "outputs": [],
   "source": [
    "data.isnull().sum()"
   ]
  },
  {
   "cell_type": "code",
   "execution_count": null,
   "id": "ee1f16d6-7fa0-4d69-9446-ee56bdec0432",
   "metadata": {},
   "outputs": [],
   "source": [
    "data= data.sample(frac = 1) \n",
    "# Randomly shuffle the data to test the model and see if it is able to accurately point out fake news"
   ]
  },
  {
   "cell_type": "code",
   "execution_count": null,
   "id": "866c643b-4d90-4e56-989e-bcf3b4756960",
   "metadata": {},
   "outputs": [],
   "source": [
    "data.head()"
   ]
  },
  {
   "cell_type": "code",
   "execution_count": null,
   "id": "d5c26938-1353-43b2-a8c7-cfbd180063db",
   "metadata": {},
   "outputs": [],
   "source": [
    "data.reset_index(inplace = True)\n",
    "data.drop(['index'], axis = 1, inplace = True)"
   ]
  },
  {
   "cell_type": "code",
   "execution_count": null,
   "id": "bae8c42e-3264-4d8a-b84b-afaabb43e04a",
   "metadata": {},
   "outputs": [],
   "source": [
    "data.columns"
   ]
  },
  {
   "cell_type": "code",
   "execution_count": null,
   "id": "557f8b6f-ff56-41e2-b7bb-2caa84d7a405",
   "metadata": {},
   "outputs": [],
   "source": [
    "data.head()"
   ]
  },
  {
   "cell_type": "code",
   "execution_count": null,
   "id": "893f3c43-eca5-4f1f-89f8-033b81d6313e",
   "metadata": {},
   "outputs": [],
   "source": [
    "# Function used to remove certain characters in the article to aid the training of the model\n",
    "def wordopt(text):\n",
    "    text = text.lower()\n",
    "    text = re.sub('\\[.*?\\]', '', text)\n",
    "    text = re.sub(\"\\\\W\", \" \", text)\n",
    "    text = re.sub('https?://\\S+|www\\.\\S+', '', text)\n",
    "    text = re.sub('<.*?.>+', \"\", text)\n",
    "    text = re.sub('[%s]' % re.escape(string.punctuation), '', text)\n",
    "    text = re.sub('\\n', '', text)\n",
    "    text = re.sub('\\w*\\d\\w*', '', text)\n",
    "    return text"
   ]
  },
  {
   "cell_type": "code",
   "execution_count": null,
   "id": "fba650c1-ddbb-42e4-b718-f4ca07e413e4",
   "metadata": {},
   "outputs": [],
   "source": [
    "data['text'] = data['text'].apply(wordopt)"
   ]
  },
  {
   "cell_type": "code",
   "execution_count": null,
   "id": "47ce0bac-13c5-4f88-bff9-395b33a202bf",
   "metadata": {},
   "outputs": [],
   "source": [
    "x = data['text']\n",
    "y = data['class']"
   ]
  },
  {
   "cell_type": "code",
   "execution_count": null,
   "id": "e78d5970-54fc-405f-b09c-fe2622709c1c",
   "metadata": {},
   "outputs": [],
   "source": [
    "# Split the dataset into training and testing splits\n",
    "x_train, x_test, y_train, y_test = train_test_split(x,y, test_size= 0.25)\n",
    "x_test"
   ]
  },
  {
   "cell_type": "code",
   "execution_count": null,
   "id": "b5447239-5979-4aa5-b977-b25a8d2f170f",
   "metadata": {},
   "outputs": [],
   "source": [
    "# Transform textual data into numerical representation suitable for ML model\n",
    "from sklearn.feature_extraction.text import TfidfVectorizer\n",
    "\n",
    "vectorization = TfidfVectorizer()\n",
    "xv_train = vectorization.fit_transform(x_train)\n",
    "xv_test = vectorization.transform(x_test)\n",
    "\n"
   ]
  },
  {
   "cell_type": "code",
   "execution_count": null,
   "id": "2c560904-eb61-45fa-ab13-eb467d64fea4",
   "metadata": {},
   "outputs": [],
   "source": [
    "# Generate the Logistic Regression model\n",
    "from sklearn.linear_model import  LogisticRegression\n",
    "\n",
    "LR = LogisticRegression()\n",
    "LR.fit(xv_train, y_train)"
   ]
  },
  {
   "cell_type": "code",
   "execution_count": null,
   "id": "90b839ba-484d-40a4-9f9c-833b7368b420",
   "metadata": {},
   "outputs": [],
   "source": [
    "pred_lr = LR.predict(xv_test)"
   ]
  },
  {
   "cell_type": "code",
   "execution_count": null,
   "id": "32ea5d31-2ffe-40b7-9168-27e159652db1",
   "metadata": {},
   "outputs": [],
   "source": [
    "LR.score(xv_test, y_test)"
   ]
  },
  {
   "cell_type": "code",
   "execution_count": null,
   "id": "0703b7ea-10f8-44e9-bdb9-722848ff05d5",
   "metadata": {},
   "outputs": [],
   "source": [
    "print(classification_report(y_test, pred_lr))"
   ]
  },
  {
   "cell_type": "code",
   "execution_count": null,
   "id": "7f3dce91-62ec-4f86-9773-4fee1e6c3885",
   "metadata": {},
   "outputs": [],
   "source": [
    "# Generate the Decision Tree Classifier model\n",
    "from sklearn.tree import DecisionTreeClassifier\n",
    "\n",
    "DT = DecisionTreeClassifier()\n",
    "DT.fit(xv_train, y_train)\n"
   ]
  },
  {
   "cell_type": "code",
   "execution_count": null,
   "id": "ab3f2449-612f-4922-b33c-b1fe8fad597d",
   "metadata": {},
   "outputs": [],
   "source": [
    "pred_dt = DT.predict(xv_test)"
   ]
  },
  {
   "cell_type": "code",
   "execution_count": null,
   "id": "d5d9182a-c202-4809-9661-1ed1b93aa06a",
   "metadata": {},
   "outputs": [],
   "source": [
    "DT.score(xv_test, y_test)"
   ]
  },
  {
   "cell_type": "code",
   "execution_count": null,
   "id": "cdc9513d-20b1-4833-af8f-0d683c341982",
   "metadata": {},
   "outputs": [],
   "source": [
    "print(classification_report(y_test, pred_dt))"
   ]
  },
  {
   "cell_type": "code",
   "execution_count": null,
   "id": "6bcf706b-6a76-4bb7-b4c1-5814dd8f1704",
   "metadata": {},
   "outputs": [],
   "source": [
    "# Generate the Gradient Boosting Classifier model\n",
    "\n",
    "from sklearn.ensemble import GradientBoostingClassifier\n",
    "\n",
    "GB = GradientBoostingClassifier(random_state = 0)\n",
    "GB.fit(xv_train, y_train)"
   ]
  },
  {
   "cell_type": "code",
   "execution_count": null,
   "id": "cc7bdd09-8692-4716-a9b2-b2de47d9ca51",
   "metadata": {},
   "outputs": [],
   "source": [
    "pred_gb = GB.predict(xv_test)"
   ]
  },
  {
   "cell_type": "code",
   "execution_count": null,
   "id": "2b60545e-6499-4453-acbd-a1aac987b857",
   "metadata": {},
   "outputs": [],
   "source": [
    "GB.score(xv_test, y_test)"
   ]
  },
  {
   "cell_type": "code",
   "execution_count": null,
   "id": "491df70f-3f41-407c-9adf-10f34d0979f9",
   "metadata": {},
   "outputs": [],
   "source": [
    "print(classification_report(y_test, pred_gb))"
   ]
  },
  {
   "cell_type": "code",
   "execution_count": null,
   "id": "62c54887-0ceb-4e4d-bdd0-e27417d4b487",
   "metadata": {},
   "outputs": [],
   "source": []
  },
  {
   "cell_type": "code",
   "execution_count": null,
   "id": "b8d62306-b3d5-4ab4-88df-0a4b991cb994",
   "metadata": {},
   "outputs": [],
   "source": [
    "# Generate the Random Forest Classifier model\n",
    "\n",
    "from sklearn.ensemble import RandomForestClassifier\n",
    "\n",
    "RF = RandomForestClassifier(random_state = 0)\n",
    "RF.fit(xv_train, y_train)"
   ]
  },
  {
   "cell_type": "code",
   "execution_count": null,
   "id": "22695b77-84aa-4209-be4c-ec5e8d566509",
   "metadata": {},
   "outputs": [],
   "source": [
    "pred_rf = RF.predict(xv_test)"
   ]
  },
  {
   "cell_type": "code",
   "execution_count": null,
   "id": "bea8b7f2-fb88-4816-8e72-8c6d8936b547",
   "metadata": {},
   "outputs": [],
   "source": [
    "RF.score(xv_test, y_test)"
   ]
  },
  {
   "cell_type": "code",
   "execution_count": null,
   "id": "0af54383-fac3-46b4-a1a6-1426bedecba1",
   "metadata": {},
   "outputs": [],
   "source": [
    "print(classification_report(y_test, pred_rf))"
   ]
  },
  {
   "cell_type": "code",
   "execution_count": null,
   "id": "93effb50-6e49-4db1-9c31-0577c035c5c0",
   "metadata": {},
   "outputs": [],
   "source": [
    "def output_label(n):\n",
    "    if n == 0:\n",
    "        return \"Fake News\"\n",
    "    elif n == 1:\n",
    "        return \"Not Fake News\"\n",
    "\n",
    "# Function for testing to see if an article is fake news or not. Takes in the article text as an argument\n",
    "def manual_testing(news):\n",
    "    testing_news = {\"text\":[news]}\n",
    "    new_def_test = pd.DataFrame(testing_news)\n",
    "    new_def_test[\"text\"] = new_def_test[\"text\"].apply(wordopt)\n",
    "    new_x_test = new_def_test[\"text\"]\n",
    "    new_xv_test = vectorization.transform(new_x_test)\n",
    "    pred_LR = LR.predict(new_xv_test)\n",
    "    pred_DT = DT.predict(new_xv_test)\n",
    "    pred_GB = GB.predict(new_xv_test)\n",
    "    pred_RF = RF.predict(new_xv_test)\n",
    "\n",
    "    return print(\"\\n\\nLR Prediction: {}\\nDT Prediction: {} \\nGB Prediction: {} \\nRF Prediction: {}\".format(output_label(pred_LR[0]),\n",
    "                                                                                                           output_label(pred_DT[0]),\n",
    "                                                                                                            output_label(pred_GB[0]),\n",
    "                                                                                                            output_label(pred_RF[0])))"
   ]
  },
  {
   "cell_type": "code",
   "execution_count": null,
   "id": "6c941dbd-c46b-4c84-a951-2fa3d4a9280a",
   "metadata": {},
   "outputs": [],
   "source": [
    "news = str(input())\n",
    "manual_testing(news)"
   ]
  },
  {
   "cell_type": "code",
   "execution_count": null,
   "id": "3ced339f-01c6-4f1f-8f3a-48aa7daa62a6",
   "metadata": {},
   "outputs": [],
   "source": []
  }
 ],
 "metadata": {
  "kernelspec": {
   "display_name": "Python 3 (ipykernel)",
   "language": "python",
   "name": "python3"
  },
  "language_info": {
   "codemirror_mode": {
    "name": "ipython",
    "version": 3
   },
   "file_extension": ".py",
   "mimetype": "text/x-python",
   "name": "python",
   "nbconvert_exporter": "python",
   "pygments_lexer": "ipython3",
   "version": "3.12.4"
  }
 },
 "nbformat": 4,
 "nbformat_minor": 5
}
